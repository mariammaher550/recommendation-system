{
 "cells": [
  {
   "cell_type": "markdown",
   "source": [
    "## Import libraries"
   ],
   "metadata": {
    "collapsed": false
   },
   "id": "aaf6e7c84c31d1c8"
  },
  {
   "cell_type": "code",
   "execution_count": 3,
   "id": "initial_id",
   "metadata": {
    "collapsed": true,
    "ExecuteTime": {
     "end_time": "2023-12-03T14:45:33.313999323Z",
     "start_time": "2023-12-03T14:45:12.255671941Z"
    }
   },
   "outputs": [
    {
     "name": "stdout",
     "output_type": "stream",
     "text": [
      "\r\n",
      "\u001B[1m[\u001B[0m\u001B[34;49mnotice\u001B[0m\u001B[1;39;49m]\u001B[0m\u001B[39;49m A new release of pip is available: \u001B[0m\u001B[31;49m23.2.1\u001B[0m\u001B[39;49m -> \u001B[0m\u001B[32;49m23.3.1\u001B[0m\r\n",
      "\u001B[1m[\u001B[0m\u001B[34;49mnotice\u001B[0m\u001B[1;39;49m]\u001B[0m\u001B[39;49m To update, run: \u001B[0m\u001B[32;49mpip install --upgrade pip\u001B[0m\r\n"
     ]
    }
   ],
   "source": [
    "!pip install scikit-learn --quiet"
   ]
  },
  {
   "cell_type": "code",
   "execution_count": 6,
   "outputs": [],
   "source": [
    "import pandas as pd\n",
    "from sklearn.neighbors import NearestNeighbors\n",
    "import numpy as np\n",
    "from sklearn.model_selection import KFold\n",
    "from sklearn.neighbors import NearestNeighbors\n",
    "from sklearn.metrics import precision_score, recall_score, f1_score"
   ],
   "metadata": {
    "collapsed": false,
    "ExecuteTime": {
     "end_time": "2023-12-03T15:22:42.516332782Z",
     "start_time": "2023-12-03T15:22:42.496548118Z"
    }
   },
   "id": "9e7e95ebb4794135"
  },
  {
   "cell_type": "markdown",
   "source": [
    "## Utils"
   ],
   "metadata": {
    "collapsed": false
   },
   "id": "c53cee79aa562248"
  },
  {
   "cell_type": "code",
   "execution_count": 6,
   "outputs": [],
   "source": [],
   "metadata": {
    "collapsed": false,
    "ExecuteTime": {
     "end_time": "2023-12-03T15:22:55.527503945Z",
     "start_time": "2023-12-03T15:22:55.482544782Z"
    }
   },
   "id": "f41a361075c16cad"
  },
  {
   "cell_type": "markdown",
   "source": [
    "## Read Data"
   ],
   "metadata": {
    "collapsed": false
   },
   "id": "8380ca5d4dc61c5c"
  },
  {
   "cell_type": "code",
   "execution_count": 9,
   "outputs": [
    {
     "data": {
      "text/plain": "   Unnamed: 0  user_id  item_id  rating\n0           0      196      242       3\n1           1      186      302       3\n2           2       22      377       1\n3           3      244       51       2\n4           4      166      346       1",
      "text/html": "<div>\n<style scoped>\n    .dataframe tbody tr th:only-of-type {\n        vertical-align: middle;\n    }\n\n    .dataframe tbody tr th {\n        vertical-align: top;\n    }\n\n    .dataframe thead th {\n        text-align: right;\n    }\n</style>\n<table border=\"1\" class=\"dataframe\">\n  <thead>\n    <tr style=\"text-align: right;\">\n      <th></th>\n      <th>Unnamed: 0</th>\n      <th>user_id</th>\n      <th>item_id</th>\n      <th>rating</th>\n    </tr>\n  </thead>\n  <tbody>\n    <tr>\n      <th>0</th>\n      <td>0</td>\n      <td>196</td>\n      <td>242</td>\n      <td>3</td>\n    </tr>\n    <tr>\n      <th>1</th>\n      <td>1</td>\n      <td>186</td>\n      <td>302</td>\n      <td>3</td>\n    </tr>\n    <tr>\n      <th>2</th>\n      <td>2</td>\n      <td>22</td>\n      <td>377</td>\n      <td>1</td>\n    </tr>\n    <tr>\n      <th>3</th>\n      <td>3</td>\n      <td>244</td>\n      <td>51</td>\n      <td>2</td>\n    </tr>\n    <tr>\n      <th>4</th>\n      <td>4</td>\n      <td>166</td>\n      <td>346</td>\n      <td>1</td>\n    </tr>\n  </tbody>\n</table>\n</div>"
     },
     "execution_count": 9,
     "metadata": {},
     "output_type": "execute_result"
    }
   ],
   "source": [
    "df_ratings.head()"
   ],
   "metadata": {
    "collapsed": false,
    "ExecuteTime": {
     "end_time": "2023-12-03T15:23:25.140175455Z",
     "start_time": "2023-12-03T15:23:25.084428237Z"
    }
   },
   "id": "498417279115fac1"
  },
  {
   "cell_type": "code",
   "execution_count": 10,
   "outputs": [],
   "source": [
    "df_ratings = pd.read_csv(\"/home/mariam/PycharmProjects/recommendation-systems/data/preprocessed/ratings.csv\")\n",
    "\n",
    "user_item_matrix = df_ratings.pivot(index='user_id', columns='item_id', values='rating').fillna(0)"
   ],
   "metadata": {
    "collapsed": false,
    "ExecuteTime": {
     "end_time": "2023-12-03T15:23:42.822512682Z",
     "start_time": "2023-12-03T15:23:42.659388303Z"
    }
   },
   "id": "520b12bbbf25882c"
  },
  {
   "cell_type": "markdown",
   "source": [
    "## Model"
   ],
   "metadata": {
    "collapsed": false
   },
   "id": "21e7cd75621ba360"
  },
  {
   "cell_type": "code",
   "execution_count": 11,
   "outputs": [],
   "source": [
    "# Specify the number of folds for cross-validation\n",
    "n_splits = 5\n",
    "\n",
    "# Set a random seed for reproducibility\n",
    "random_seed = 42\n",
    "np.random.seed(random_seed)\n",
    "\n",
    "# Initialize the k-NN model\n",
    "knn_model = NearestNeighbors(metric='cosine', algorithm='brute')"
   ],
   "metadata": {
    "collapsed": false,
    "ExecuteTime": {
     "end_time": "2023-12-03T15:23:44.948002518Z",
     "start_time": "2023-12-03T15:23:44.871210239Z"
    }
   },
   "id": "1964de6a143d88ba"
  },
  {
   "cell_type": "code",
   "execution_count": 12,
   "outputs": [],
   "source": [
    "def get_k_nearest_neighbors(user_index, k=5):\n",
    "    distances, indices = knn_model.kneighbors([user_item_matrix.iloc[user_index]], n_neighbors=k+1)\n",
    "    \n",
    "    # Exclude the first item, which is the user itself\n",
    "    distances = distances.flatten()[1:]\n",
    "    indices = indices.flatten()[1:]\n",
    "    \n",
    "    return list(zip(indices, distances))"
   ],
   "metadata": {
    "collapsed": false,
    "ExecuteTime": {
     "end_time": "2023-12-03T15:23:47.784193096Z",
     "start_time": "2023-12-03T15:23:47.767712235Z"
    }
   },
   "id": "af435f0ab61d02ee"
  },
  {
   "cell_type": "code",
   "execution_count": 39,
   "outputs": [
    {
     "name": "stdout",
     "output_type": "stream",
     "text": [
      "Average Precision at k:\n",
      "At k=5: 0.0456\n",
      "At k=10: 0.0453\n",
      "At k=20: 0.0435\n",
      "\n",
      "Average Recall at k:\n",
      "At k=5: 0.0063\n",
      "At k=10: 0.0126\n",
      "At k=20: 0.0242\n",
      "\n",
      "Average F1 Score at k:\n",
      "At k=5: 0.0111\n",
      "At k=10: 0.0197\n",
      "At k=20: 0.0311\n"
     ]
    }
   ],
   "source": [
    "# Initialize KFold with manual seeding\n",
    "kf = KFold(n_splits=n_splits, shuffle=True, random_state=random_seed)\n",
    "k_values = [5, 10, 20]\n",
    "# Lists to store evaluation results for each fold\n",
    "precision_scores = {k: [] for k in k_values}\n",
    "recall_scores = {k: [] for k in k_values}\n",
    "f1_scores = {k: [] for k in k_values}\n",
    "\n",
    "# Perform k-fold cross-validation\n",
    "for train_index, test_index in kf.split(user_item_matrix):\n",
    "    # Split the data into training and testing sets\n",
    "    train_data, test_data = user_item_matrix.iloc[train_index], user_item_matrix.iloc[test_index]\n",
    "    \n",
    "    # Fit the k-NN model on the training data\n",
    "    knn_model.fit(train_data)\n",
    "    \n",
    "    # Evaluate on the test data\n",
    "    for user_index in test_index:\n",
    "        # Get the ground truth (items liked by the user in the test set)\n",
    "        ground_truth= deepcopy(user_item_matrix.iloc[40])\n",
    "        ground_truth = ground_truth[ground_truth > 3]\n",
    "        ground_truth = set(ground_truth.index.values)\n",
    "        \n",
    "        \n",
    "        # Get k-nearest neighbors\n",
    "        nearest_neighbors = get_k_nearest_neighbors(user_index, max(k_values))\n",
    "        \n",
    "        for k in k_values:\n",
    "            # Extract the top k recommended items from neighbors\n",
    "            top_k_recommendations = set(item for item, _ in nearest_neighbors[:k])\n",
    "            \n",
    "            # Calculate precision, recall, and F1 score at k\n",
    "            precision = len(ground_truth.intersection(top_k_recommendations)) / k\n",
    "            recall = len(ground_truth.intersection(top_k_recommendations)) / len(ground_truth)\n",
    "            \n",
    "            # Avoid division by zero\n",
    "            f1 = 2 * (precision * recall) / (precision + recall) if (precision + recall) > 0 else 0\n",
    "            \n",
    "            precision_scores[k].append(precision)\n",
    "            recall_scores[k].append(recall)\n",
    "            f1_scores[k].append(f1)\n",
    "\n",
    "# Calculate average precision, recall, and F1 score across all folds for each k\n",
    "avg_precision = {k: np.mean(scores) for k, scores in precision_scores.items()}\n",
    "avg_recall = {k: np.mean(scores) for k, scores in recall_scores.items()}\n",
    "avg_f1 = {k: np.mean(scores) for k, scores in f1_scores.items()}\n",
    "\n",
    "# Display results\n",
    "print(\"Average Precision at k:\")\n",
    "for k, score in avg_precision.items():\n",
    "    print(f\"At k={k}: {score:.4f}\")\n",
    "\n",
    "print(\"\\nAverage Recall at k:\")\n",
    "for k, score in avg_recall.items():\n",
    "    print(f\"At k={k}: {score:.4f}\")\n",
    "\n",
    "print(\"\\nAverage F1 Score at k:\")\n",
    "for k, score in avg_f1.items():\n",
    "    print(f\"At k={k}: {score:.4f}\")"
   ],
   "metadata": {
    "collapsed": false,
    "ExecuteTime": {
     "end_time": "2023-12-03T16:26:06.532382469Z",
     "start_time": "2023-12-03T16:25:42.728097099Z"
    }
   },
   "id": "b4511a6e9608df3a"
  },
  {
   "cell_type": "code",
   "execution_count": 37,
   "outputs": [],
   "source": [
    "from copy import deepcopy\n",
    "\n",
    "ground_truth= deepcopy(user_item_matrix.iloc[40])\n",
    "\n",
    "ground_truth = ground_truth[ground_truth > 3]\n",
    "ground_truth = set(ground_truth.index.values)\n",
    "# x.sort_values(inplace=True, ascending=False)\n",
    "# indices = x.index.astype(int)\n",
    "# set(indices.values)"
   ],
   "metadata": {
    "collapsed": false,
    "ExecuteTime": {
     "end_time": "2023-12-03T16:24:27.708543075Z",
     "start_time": "2023-12-03T16:24:27.663298222Z"
    }
   },
   "id": "7fa0e13314adf07b"
  },
  {
   "cell_type": "code",
   "execution_count": 38,
   "outputs": [
    {
     "data": {
      "text/plain": "{1,\n 28,\n 50,\n 56,\n 69,\n 96,\n 98,\n 100,\n 135,\n 152,\n 153,\n 156,\n 168,\n 170,\n 173,\n 174,\n 175,\n 180,\n 181,\n 188,\n 191,\n 195,\n 205,\n 209,\n 238,\n 286,\n 318,\n 357,\n 414,\n 430,\n 474,\n 486,\n 514,\n 516,\n 751,\n 969}"
     },
     "execution_count": 38,
     "metadata": {},
     "output_type": "execute_result"
    }
   ],
   "source": [
    "ground_truth"
   ],
   "metadata": {
    "collapsed": false,
    "ExecuteTime": {
     "end_time": "2023-12-03T16:24:32.913695845Z",
     "start_time": "2023-12-03T16:24:32.867304260Z"
    }
   },
   "id": "75da4698cef1ec66"
  },
  {
   "cell_type": "code",
   "execution_count": 19,
   "outputs": [
    {
     "data": {
      "text/plain": "[(587, 0.5533295106986258),\n (77, 0.5629883607656635),\n (413, 0.5738081498762717),\n (746, 0.5878436523774835),\n (558, 0.594197378128124),\n (429, 0.6008199031694375),\n (328, 0.6033888739840246),\n (513, 0.6041479409599898),\n (692, 0.6063239886714646),\n (311, 0.6120980294668037)]"
     },
     "execution_count": 19,
     "metadata": {},
     "output_type": "execute_result"
    }
   ],
   "source": [
    "get_k_nearest_neighbors(40,10)"
   ],
   "metadata": {
    "collapsed": false,
    "ExecuteTime": {
     "end_time": "2023-12-03T15:50:34.493651038Z",
     "start_time": "2023-12-03T15:50:34.373777142Z"
    }
   },
   "id": "5c22e8e7bba1d15d"
  },
  {
   "cell_type": "code",
   "execution_count": null,
   "outputs": [],
   "source": [
    "# da kda ana m3aya lel user da k ground truth X movies and their ratings\n",
    "# w m3aya recommended 10, fa hashof hal homa included fe el rated 5 and 4 wla laa?"
   ],
   "metadata": {
    "collapsed": false
   },
   "id": "d0049d3747da377f"
  }
 ],
 "metadata": {
  "kernelspec": {
   "display_name": "Python 3",
   "language": "python",
   "name": "python3"
  },
  "language_info": {
   "codemirror_mode": {
    "name": "ipython",
    "version": 2
   },
   "file_extension": ".py",
   "mimetype": "text/x-python",
   "name": "python",
   "nbconvert_exporter": "python",
   "pygments_lexer": "ipython2",
   "version": "2.7.6"
  }
 },
 "nbformat": 4,
 "nbformat_minor": 5
}
